{
 "cells": [
  {
   "cell_type": "code",
   "execution_count": null,
   "id": "368654a6",
   "metadata": {},
   "outputs": [],
   "source": [
    "import os\n",
    "import h5py\n",
    "import matplotlib.pyplot as plt\n",
    "%matplotlib notebook\n",
    "from scipy.sparse.linalg import svds\n",
    "from numpy import linalg as la\n",
    "import datetime\n",
    "import numpy as np\n",
    "import obspy\n",
    "from obspy.signal.filter import bandpass,lowpass\n"
   ]
  },
  {
   "cell_type": "code",
   "execution_count": null,
   "id": "0abecb05",
   "metadata": {},
   "outputs": [],
   "source": [
    "def flip_signs(A, B):\n",
    "    \"\"\"\n",
    "    utility function for resolving the sign ambiguity in SVD\n",
    "    http://stats.stackexchange.com/q/34396/115202\n",
    "    \"\"\"\n",
    "    signs = np.sign(A) * np.sign(B)\n",
    "    return A, B * signs"
   ]
  },
  {
   "cell_type": "code",
   "execution_count": null,
   "id": "3da7a214",
   "metadata": {},
   "outputs": [],
   "source": [
    "def sintela_to_datetime(sintela_times):\n",
    "    '''\n",
    "    returns an array of datetime.datetime \n",
    "    ''' \n",
    "    days1970 = datetime.date(1970, 1, 1).toordinal()\n",
    "\n",
    "    # Vectorize everything\n",
    "    converttime = np.vectorize(datetime.datetime.fromordinal)\n",
    "    addday_lambda = lambda x : datetime.timedelta(days=x)\n",
    "    adddays = np.vectorize(addday_lambda )\n",
    "    \n",
    "    day = days1970 + sintela_times/1e6/60/60/24\n",
    "    thisDateTime = converttime(np.floor(day).astype(int))\n",
    "    dayFraction = day-np.floor(day)\n",
    "    thisDateTime = thisDateTime + adddays(dayFraction)\n",
    "\n",
    "    return thisDateTime"
   ]
  },
  {
   "cell_type": "code",
   "execution_count": null,
   "id": "a039a838",
   "metadata": {},
   "outputs": [],
   "source": [
    "def data_wrangler(cable,record_length,t0):\n",
    "    if cable == 'seadasn':\n",
    "        prefix = 'seadasn'\n",
    "        network_name = 'SeaDAS-N'\n",
    "        if t0 < datetime.datetime(2022, 6, 20, 0, 0, 0):\n",
    "            datastore='/data/data0/seadasn_2022-03-17_2022-06-20/'\n",
    "        else:\n",
    "            datastore='/data/data7/seadasn/'\n",
    "\n",
    "    elif cable == 'whidbey':\n",
    "        prefix = 'whidbey'\n",
    "        network_name='Whidbey-DAS'\n",
    "        if t0 < datetime.datetime(2022,10,23,4,50,0):\n",
    "            datastore = '/data/data5/Converted/'\n",
    "        else:\n",
    "            datastore = '/data/data6/whidbey'\n",
    "            \n",
    "    return prefix, network_name, datastore"
   ]
  },
  {
   "cell_type": "code",
   "execution_count": null,
   "id": "e872153b",
   "metadata": {},
   "outputs": [],
   "source": [
    "filename = '/data/data5/Converted/whidbey_2022-09-08_08-08-00_UTC_023814.h5'\n",
    "data_file = h5py.File(filename)\n",
    "# data= data_file['/Acquisition/Raw[0]/RawData'][:,2430:3315]\n",
    "data= data_file['/Acquisition/Raw[0]/RawData']\n",
    "time = np.array(data_file['Acquisition/Raw[0]/RawDataTime'])\n",
    "times = sintela_to_datetime(time)\n",
    "attrs=dict(data_file['Acquisition'].attrs)\n",
    "samp_int = attrs['SpatialSamplingInterval']\n",
    "fs = attrs['PulseRate']\n",
    "chans = attrs['NumberOfLoci']\n",
    "chans = np.r_[1:chans+1]"
   ]
  },
  {
   "cell_type": "code",
   "execution_count": null,
   "id": "2ed1d0e4",
   "metadata": {},
   "outputs": [],
   "source": [
    "def pre_process(arr,fs,fmin,fmax):\n",
    "    data = []\n",
    "    st = obspy.Stream()\n",
    "    if arr.ndim == 2:\n",
    "        axis = 1\n",
    "        for i in range(len(arr)):\n",
    "            tr = obspy.Trace(data=arr[i,:])\n",
    "            tr.stats.sampling_rate = fs\n",
    "            st += tr\n",
    "            del tr\n",
    "    else:\n",
    "        axis = 0\n",
    "        tr = obspy.Trace(data=arr)\n",
    "        tr.stats.sampling_rate = fs\n",
    "        st += tr\n",
    "        del tr\n",
    "    st.detrend('constant')\n",
    "    st.detrend('linear')\n",
    "    percent = percent = np.min([fs * 3 / arr.shape[axis],0.05])\n",
    "    st.taper(max_percentage=percent)\n",
    "    st.filter('bandpass',freqmin=fmin,freqmax=fmax,zerophase=True)\n",
    "    for tr in st:\n",
    "        data.append(tr.data)\n",
    "    data = np.array(data)\n",
    "    if data.shape[0] == 1:\n",
    "        data = data.flatten()\n",
    "    return data"
   ]
  },
  {
   "cell_type": "code",
   "execution_count": null,
   "id": "f7b8cc2d",
   "metadata": {},
   "outputs": [],
   "source": [
    "def do_svd(data,method='standard'):\n",
    "    \n",
    "    if method == 'sparse':\n",
    "        nt,nx = data.shape\n",
    "        \n",
    "        U,S,V = svds(data)\n",
    "        S=np.diag(S,k=6)\n",
    "#         if kmin is None:\n",
    "#             k = len(np.where(np.diag(S) >= 1)[0])\n",
    "        \n",
    "        U0 = np.array(U[:,:k]).reshape((nt,k))\n",
    "        V0 = np.array(V[:k,:]).reshape((k,nx))\n",
    "        S0 = S[:k,:k]\n",
    "\n",
    "        reconstruction = U0.dot(S0).dot(V0)\n",
    "        return reconstruction, k, U, S, V, U0,V0,S0\n",
    "    \n",
    "    if method == 'standard':\n",
    "        n,m = data.shape\n",
    "        # the m x m covariance matrix\n",
    "        C = np.cov(data, rowvar=False)\n",
    "#         C = np.dot(data.T, data) / (n-1)\n",
    "        # C is a symmetric matrix and so it can be diagonalized:\n",
    "        lamda, principal_axes = la.eigh(C)\n",
    "        # sort results wrt. eigenvalues\n",
    "        idx = lamda.argsort()[::-1]\n",
    "        lamda, principal_axes = lamda[idx], principal_axes[:, idx]\n",
    "\n",
    "        # projections of data on the principal axes are called principal components\n",
    "        principal_components =data.dot(principal_axes)\n",
    "#         print(f'PCs = \\n {principal_components}')\n",
    "        \n",
    "        U,s,Vt = la.svd(data,full_matrices=False)\n",
    "        V = Vt.T\n",
    "        S = np.diag(s)\n",
    "        \n",
    "        # 8) dimensionality reduction\n",
    "#         if kmin is None:\n",
    "#             k = len(np.where(np.diag(S) >= 1)[0])\n",
    "#         else:\n",
    "#             k = len(np.where(np.diag(S) >= kmin)[0])\n",
    "            \n",
    "        # find number of PCs to explain >= 99%\n",
    "        cmsm = np.cumsum(np.real(lamda))/np.sum(np.real(lamda))\n",
    "        k = np.where(cmsm >= 0.995)[0][0]\n",
    "\n",
    "        PC_k = principal_components[:, :k]\n",
    "        US_k = U[:, :k].dot(S[:k, :k])\n",
    "\n",
    "        # multiplying the first k PCs by the k princ axes V.T(k) yields a\n",
    "        # X(k) = U(k)S(k)V.T(k) matrix that has the original n x m size but\n",
    "        # lower rank (of rank k). This is the lowest possible reconstruction \n",
    "        # error \n",
    "        Xk = US_k.dot(Vt[:k, :])\n",
    "        \n",
    "        return k,PC_k,US_k,Vt,Xk,C"
   ]
  },
  {
   "cell_type": "code",
   "execution_count": null,
   "id": "be8538d1",
   "metadata": {},
   "outputs": [],
   "source": [
    "filt_data = pre_process(data,fs,0.1,10)\n",
    "# reconstruction, k, U, S, V, U0,V0,S0 = do_svd(filt_data,num_sv=15)\n",
    "k,PC_k,US_k,Vt,Xk,C = do_svd(filt_data)"
   ]
  },
  {
   "cell_type": "code",
   "execution_count": null,
   "id": "e21786e3",
   "metadata": {},
   "outputs": [],
   "source": [
    "\n",
    "fig,ax = plt.subplots(1,3,figsize=(10,8),sharex=True,sharey=True)\n",
    "vmin = -3\n",
    "vmax = 3\n",
    "\n",
    "ax[0].pcolormesh(chans,times,data,vmin=vmin,vmax=vmax,cmap='RdBu')\n",
    "ax[0].title.set_text('raw data')\n",
    "ax[0].set_xlabel('Channel Num')\n",
    "ax[0].set_ylabel('Time H:M:S')\n",
    "\n",
    "ax[1].pcolormesh(chans,times,filt_data,vmin=vmin,vmax=vmax,cmap='RdBu')\n",
    "ax[1].title.set_text('filtered data')\n",
    "ax[1].set_xlabel('Channel Num')\n",
    "\n",
    "\n",
    "ax[2].pcolormesh(chans,times,Xk,vmin=vmin,vmax=vmax,cmap='RdBu')\n",
    "ax[2].title.set_text(f'PCA reconstruction w {k} PCs')\n",
    "ax[2].set_xlabel('Channel Num')\n",
    "\n",
    "fig.tight_layout()\n",
    "fig.gca().invert_yaxis()\n",
    "plt.show()\n",
    "plt.savefig('Whidbey_pca.png', bbox_inches='tight')"
   ]
  },
  {
   "cell_type": "code",
   "execution_count": null,
   "id": "e4c46e09",
   "metadata": {},
   "outputs": [],
   "source": []
  },
  {
   "cell_type": "code",
   "execution_count": null,
   "id": "c60348bf",
   "metadata": {},
   "outputs": [],
   "source": [
    "np.savez_compressed('data_compressed',US_k,Vt[:k,:])"
   ]
  },
  {
   "cell_type": "code",
   "execution_count": null,
   "id": "e7c23371",
   "metadata": {},
   "outputs": [],
   "source": [
    "origsize = os.path.getsize('/data/data5/Converted/whidbey_2022-09-08_08-08-00_UTC_023814.h5')/1e6\n",
    "compsize = os.path.getsize('/home/dpsprink/data/mlGeo/data_compressed.npz')/1e6"
   ]
  },
  {
   "cell_type": "code",
   "execution_count": null,
   "id": "4df19200",
   "metadata": {},
   "outputs": [],
   "source": [
    "print(f'File size {origsize} MB')"
   ]
  },
  {
   "cell_type": "code",
   "execution_count": null,
   "id": "c64ec404",
   "metadata": {},
   "outputs": [],
   "source": [
    "print(f'File size {compsize} MB')"
   ]
  },
  {
   "cell_type": "code",
   "execution_count": null,
   "id": "c636fc89",
   "metadata": {},
   "outputs": [],
   "source": [
    "print(f' Compression ratio {round(origsize/compsize)} : 1')\n",
    "print(f' Space saving percent ~ {100-round(compsize/origsize*100)} % ')"
   ]
  },
  {
   "cell_type": "code",
   "execution_count": null,
   "id": "94e93b1b",
   "metadata": {},
   "outputs": [],
   "source": [
    "cmsm = np.cumsum(np.real(lamda))/np.sum(np.real(lamda))\n",
    "indx = np.where(cmsm > 0.995)[0][0]\n",
    "fig,ax = plt.subplots(figsize=(8,6))\n",
    "ax.plot(cmsm,label='Cumulativve Sum')\n",
    "ax.plot(indx,cmsm[indx],'*r',label='>= 0.99 Threshold')\n",
    "ax.set_xlim(-10,500)\n",
    "ax.grid()\n",
    "ax.set_title('Cumulative Explained Variance per PC')\n",
    "ax.legend()\n",
    "plt.savefig('explainedVar.png', bbox_inches='tight')"
   ]
  }
 ],
 "metadata": {
  "kernelspec": {
   "display_name": "libcomcat",
   "language": "python",
   "name": "libcomcat"
  },
  "language_info": {
   "codemirror_mode": {
    "name": "ipython",
    "version": 3
   },
   "file_extension": ".py",
   "mimetype": "text/x-python",
   "name": "python",
   "nbconvert_exporter": "python",
   "pygments_lexer": "ipython3",
   "version": "3.7.12"
  },
  "varInspector": {
   "cols": {
    "lenName": 16,
    "lenType": 16,
    "lenVar": 40
   },
   "kernels_config": {
    "python": {
     "delete_cmd_postfix": "",
     "delete_cmd_prefix": "del ",
     "library": "var_list.py",
     "varRefreshCmd": "print(var_dic_list())"
    },
    "r": {
     "delete_cmd_postfix": ") ",
     "delete_cmd_prefix": "rm(",
     "library": "var_list.r",
     "varRefreshCmd": "cat(var_dic_list()) "
    }
   },
   "types_to_exclude": [
    "module",
    "function",
    "builtin_function_or_method",
    "instance",
    "_Feature"
   ],
   "window_display": false
  }
 },
 "nbformat": 4,
 "nbformat_minor": 5
}
